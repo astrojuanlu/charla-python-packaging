{
 "cells": [
  {
   "cell_type": "markdown",
   "id": "finnish-grenada",
   "metadata": {
    "slideshow": {
     "slide_type": "slide"
    }
   },
   "source": [
    "![Python packaging: Lo estás haciendo mal](img/cover.jpeg)\n",
    "\n",
    "## 2021-03-04 @ Python Madrid"
   ]
  },
  {
   "cell_type": "markdown",
   "id": "hollywood-taste",
   "metadata": {
    "slideshow": {
     "slide_type": "slide"
    }
   },
   "source": [
    "# Resumen\n",
    "\n",
    "1. Introducción\n",
    "2. Brevísima historia de una pesadilla\n",
    "3. Cómo instalar paquetes\n",
    "4. Cómo especificar dependencias para aplicaciones\n",
    "5. Cómo distribuir código\n",
    "6. Conclusiones y preguntas"
   ]
  },
  {
   "cell_type": "markdown",
   "id": "distributed-hybrid",
   "metadata": {
    "slideshow": {
     "slide_type": "skip"
    }
   },
   "source": [
    "### Preguntas hechas con antelación en el Meetup\n",
    "\n",
    "---\n",
    "\n",
    "Casos de uso para:\n",
    "\n",
    "- Installation: python setup.py install\n",
    "- Software dist: python setup.py sdist\n",
    "- Binary dist: python setup.py bdist\n",
    "\n",
    "---\n",
    "\n",
    "Compatibilidad poetry vs buildpacks, gracias!\n",
    "\n",
    "https://github.com/heroku/heroku-buildpack-python/issues/796\n",
    "\n",
    "---\n",
    "\n",
    "¿Por qué todavía seguimos diferenciando entre librería y aplicación?\n",
    "¿Cuándo estará disponible para su uso general lo especificado en el PEP631?\n",
    "¿Qué es un Platypus?\n",
    "\n",
    "---\n",
    "\n",
    "Cómo referenciar paquetes privados para que puedan instalarse con pip en distintos entornos de CI/CD\n",
    "\n",
    "---\n",
    "\n",
    "Integración y despliegue continuo, cómo organizarlo en grandes empresas, artefactory, Jenkins, etc. convivencia con otros proyectos, puesta en producción.\n",
    "\n",
    "---\n",
    "\n",
    "Instalación para Alpine linux mini root fs para containers!\n",
    "\n",
    "---\n",
    "\n",
    "* tips para pasar un poyecto legacy en pip a poetry (requirements a toml).\n",
    "* Manejo de multilenguaje y compilado de diccionarios en la instalación\n",
    "\n",
    "---\n",
    "\n",
    "Como instalar una libreria de manera agnostica con el host?, me refiero a instalar una libreria en windows pero con arquitectura x86 linux.\n",
    "\n",
    "Ya que tuve un proyecto y la unica solucion fue descargar una ISO de un ubuntu server x86 y ahi hacer el pip install (en ese caso fue PARAMIKO) ya que donde yo ejecutaba mi Script tenian ese SO y yo desarrollaba en una MAC y me marcaba error por los HEADERS del OS."
   ]
  },
  {
   "cell_type": "markdown",
   "id": "utility-aerospace",
   "metadata": {
    "slideshow": {
     "slide_type": "slide"
    }
   },
   "source": [
    "# ¿Quién es este?\n",
    "\n",
    "<img src=\"img/yo.jpg\" alt=\"¡Yo!\" style=\"width: 35%; float: right\" />\n",
    "\n",
    "<ul style=\"width: 55%\">\n",
    "    <li><strong>Ingeniero aeroespacial</strong> con pasión por las órbitas 🛰</li>\n",
    "    <li>Ex presidente y fundador de <strong>Python España</strong> y ex organizador de <strong>PyCon España</strong> y <strong>Python Madrid</strong> 🐍</li>\n",
    "    <li><strong>Mission Planning &nbsp; Execution Engineer</strong> en <strong>Satellogic</strong> 🌍</li>\n",
    "    <li><em>I code like a girl 🌈</em></li>\n",
    "    <li>Activista del Conocimiento Libre y la Ciencia Abierta 🄯</li>\n",
    "    <li>Melómano 🎸</li>\n",
    "</ul>\n",
    "\n",
    "Sígueme! https://github.com/astrojuanlu/\n",
    "\n",
    "<div style=\"float: clear\"></div>"
   ]
  },
  {
   "cell_type": "markdown",
   "id": "canadian-tutorial",
   "metadata": {
    "slideshow": {
     "slide_type": "slide"
    }
   },
   "source": [
    "# Una aclaración importante\n",
    "\n",
    "![Paternalista](img/paternalista.jpg)"
   ]
  },
  {
   "cell_type": "markdown",
   "id": "statewide-break",
   "metadata": {
    "slideshow": {
     "slide_type": "skip"
    }
   },
   "source": [
    "- \"Lo estás haciendo mal\" es un título condescendiente a propósito a modo de broma\n",
    "- Hay valor en tener unas buenas prácticas comunes: reducir la fricción entre proyectos y poder dedicarnos a lo importante"
   ]
  },
  {
   "cell_type": "markdown",
   "id": "tracked-muscle",
   "metadata": {
    "slideshow": {
     "slide_type": "slide"
    }
   },
   "source": [
    "# Brevísima historia de una pesadilla\n",
    "\n",
    "## O «cómo aprendimos a odiar pip»"
   ]
  },
  {
   "cell_type": "markdown",
   "id": "detailed-yemen",
   "metadata": {
    "slideshow": {
     "slide_type": "subslide"
    }
   },
   "source": [
    "![Jannis Leidel, 2009](img/jezdez2009.png)"
   ]
  },
  {
   "cell_type": "markdown",
   "id": "substantial-duncan",
   "metadata": {
    "slideshow": {
     "slide_type": "fragment"
    }
   },
   "source": [
    "![Martin Natano, 2014](img/martinnatano2014.png)"
   ]
  },
  {
   "cell_type": "markdown",
   "id": "serious-diesel",
   "metadata": {
    "slideshow": {
     "slide_type": "subslide"
    }
   },
   "source": [
    "![\"Una abominación\"](img/fperez_org2012.png)"
   ]
  },
  {
   "cell_type": "markdown",
   "id": "hairy-slovak",
   "metadata": {
    "slideshow": {
     "slide_type": "subslide"
    }
   },
   "source": [
    "### 2013\n",
    "\n",
    "![¡Camaradas!](img/python_comrades-orig.png)"
   ]
  },
  {
   "cell_type": "markdown",
   "id": "capital-success",
   "metadata": {
    "slideshow": {
     "slide_type": "subslide"
    }
   },
   "source": [
    "![\"Malware\"](img/dwf2015.png)"
   ]
  },
  {
   "cell_type": "markdown",
   "id": "democratic-static",
   "metadata": {
    "slideshow": {
     "slide_type": "subslide"
    }
   },
   "source": [
    "### ???\n",
    "\n",
    "![¿Camaradas...?](img/python_comrades-edit.png)"
   ]
  },
  {
   "cell_type": "markdown",
   "id": "actual-intensity",
   "metadata": {
    "slideshow": {
     "slide_type": "subslide"
    }
   },
   "source": [
    "https://www.slideshare.net/misterwang/pydata-past-present-future-pydata-sv-2014-keynote\n",
    "\n",
    "![Vamos, un lío](img/this-packaging-problem.jpg)"
   ]
  },
  {
   "cell_type": "markdown",
   "id": "instructional-dictionary",
   "metadata": {
    "slideshow": {
     "slide_type": "subslide"
    }
   },
   "source": [
    "![Empecemos de nuevo](img/shaking-head-2.gif)"
   ]
  }
 ],
 "metadata": {
  "celltoolbar": "Slideshow",
  "kernelspec": {
   "display_name": "Python 3",
   "language": "python",
   "name": "python3"
  },
  "language_info": {
   "codemirror_mode": {
    "name": "ipython",
    "version": 3
   },
   "file_extension": ".py",
   "mimetype": "text/x-python",
   "name": "python",
   "nbconvert_exporter": "python",
   "pygments_lexer": "ipython3",
   "version": "3.8.5"
  }
 },
 "nbformat": 4,
 "nbformat_minor": 5
}
