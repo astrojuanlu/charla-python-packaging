{
 "cells": [
  {
   "cell_type": "markdown",
   "id": "finnish-grenada",
   "metadata": {
    "slideshow": {
     "slide_type": "slide"
    }
   },
   "source": [
    "![Python packaging: Lo estás haciendo mal](img/cover.jpeg)\n",
    "\n",
    "## 2021-03-04 @ Python Madrid"
   ]
  },
  {
   "cell_type": "markdown",
   "id": "hollywood-taste",
   "metadata": {
    "slideshow": {
     "slide_type": "slide"
    }
   },
   "source": [
    "# Resumen\n",
    "\n",
    "1. Introducción\n",
    "2. Brevísima historia de una pesadilla\n",
    "3. Cómo instalar paquetes\n",
    "4. Cómo especificar dependencias para aplicaciones\n",
    "5. Cómo distribuir código\n",
    "6. Conclusiones y preguntas"
   ]
  },
  {
   "cell_type": "markdown",
   "id": "distributed-hybrid",
   "metadata": {
    "slideshow": {
     "slide_type": "skip"
    }
   },
   "source": [
    "### Preguntas hechas con antelación en el Meetup\n",
    "\n",
    "---\n",
    "\n",
    "Casos de uso para:\n",
    "\n",
    "- Installation: python setup.py install\n",
    "- Software dist: python setup.py sdist\n",
    "- Binary dist: python setup.py bdist\n",
    "\n",
    "---\n",
    "\n",
    "Compatibilidad poetry vs buildpacks, gracias!\n",
    "\n",
    "https://github.com/heroku/heroku-buildpack-python/issues/796\n",
    "\n",
    "---\n",
    "\n",
    "¿Por qué todavía seguimos diferenciando entre librería y aplicación?\n",
    "¿Cuándo estará disponible para su uso general lo especificado en el PEP631?\n",
    "¿Qué es un Platypus?\n",
    "\n",
    "---\n",
    "\n",
    "Cómo referenciar paquetes privados para que puedan instalarse con pip en distintos entornos de CI/CD\n",
    "\n",
    "---\n",
    "\n",
    "Integración y despliegue continuo, cómo organizarlo en grandes empresas, artefactory, Jenkins, etc. convivencia con otros proyectos, puesta en producción.\n",
    "\n",
    "---\n",
    "\n",
    "Instalación para Alpine linux mini root fs para containers!\n",
    "\n",
    "---\n",
    "\n",
    "* tips para pasar un poyecto legacy en pip a poetry (requirements a toml).\n",
    "* Manejo de multilenguaje y compilado de diccionarios en la instalación\n",
    "\n",
    "---\n",
    "\n",
    "Como instalar una libreria de manera agnostica con el host?, me refiero a instalar una libreria en windows pero con arquitectura x86 linux.\n",
    "\n",
    "Ya que tuve un proyecto y la unica solucion fue descargar una ISO de un ubuntu server x86 y ahi hacer el pip install (en ese caso fue PARAMIKO) ya que donde yo ejecutaba mi Script tenian ese SO y yo desarrollaba en una MAC y me marcaba error por los HEADERS del OS."
   ]
  },
  {
   "cell_type": "markdown",
   "id": "utility-aerospace",
   "metadata": {
    "slideshow": {
     "slide_type": "slide"
    }
   },
   "source": [
    "# ¿Quién es este?\n",
    "\n",
    "<img src=\"img/yo.jpg\" alt=\"¡Yo!\" style=\"width: 35%; float: right\" />\n",
    "\n",
    "<ul style=\"width: 55%\">\n",
    "    <li><strong>Ingeniero aeroespacial</strong> con pasión por las órbitas 🛰</li>\n",
    "    <li>Ex presidente y fundador de <strong>Python España</strong> y ex organizador de <strong>PyCon España</strong> y <strong>Python Madrid</strong> 🐍</li>\n",
    "    <li><strong>Mission Planning &nbsp; Execution Engineer</strong> en <strong>Satellogic</strong> 🌍</li>\n",
    "    <li><em>I code like a girl 🌈</em></li>\n",
    "    <li>Activista del Conocimiento Libre y la Ciencia Abierta 🄯</li>\n",
    "    <li>Melómano 🎸</li>\n",
    "</ul>\n",
    "\n",
    "Sígueme! https://github.com/astrojuanlu/\n",
    "\n",
    "<div style=\"float: clear\"></div>"
   ]
  },
  {
   "cell_type": "markdown",
   "id": "canadian-tutorial",
   "metadata": {
    "slideshow": {
     "slide_type": "slide"
    }
   },
   "source": [
    "# Una aclaración importante\n",
    "\n",
    "![Paternalista](img/paternalista.jpg)"
   ]
  },
  {
   "cell_type": "markdown",
   "id": "statewide-break",
   "metadata": {
    "slideshow": {
     "slide_type": "skip"
    }
   },
   "source": [
    "- \"Lo estás haciendo mal\" es un título condescendiente a propósito a modo de broma\n",
    "- Hay valor en tener unas buenas prácticas comunes: reducir la fricción entre proyectos y poder dedicarnos a lo importante"
   ]
  },
  {
   "cell_type": "markdown",
   "id": "tracked-muscle",
   "metadata": {
    "slideshow": {
     "slide_type": "slide"
    }
   },
   "source": [
    "# Brevísima historia de una pesadilla\n",
    "\n",
    "## O «cómo aprendimos a odiar pip»"
   ]
  },
  {
   "cell_type": "markdown",
   "id": "detailed-yemen",
   "metadata": {
    "slideshow": {
     "slide_type": "subslide"
    }
   },
   "source": [
    "![Jannis Leidel, 2009](img/jezdez2009.png)"
   ]
  },
  {
   "cell_type": "markdown",
   "id": "substantial-duncan",
   "metadata": {
    "slideshow": {
     "slide_type": "fragment"
    }
   },
   "source": [
    "![Martin Natano, 2014](img/martinnatano2014.png)"
   ]
  },
  {
   "cell_type": "markdown",
   "id": "photographic-ordinary",
   "metadata": {
    "slideshow": {
     "slide_type": "subslide"
    }
   },
   "source": [
    "![\"Una abominación\"](img/fperez_org2012.png)"
   ]
  },
  {
   "cell_type": "markdown",
   "id": "animal-pledge",
   "metadata": {
    "slideshow": {
     "slide_type": "subslide"
    }
   },
   "source": [
    "### 2013\n",
    "\n",
    "![¡Camaradas!](img/python_comrades-orig.png)"
   ]
  },
  {
   "cell_type": "markdown",
   "id": "balanced-tyler",
   "metadata": {
    "slideshow": {
     "slide_type": "subslide"
    }
   },
   "source": [
    "![\"Malware\"](img/dwf2015.png)"
   ]
  },
  {
   "cell_type": "markdown",
   "id": "concerned-ownership",
   "metadata": {
    "slideshow": {
     "slide_type": "subslide"
    }
   },
   "source": [
    "### ???\n",
    "\n",
    "![¿Camaradas...?](img/python_comrades-edit.png)"
   ]
  },
  {
   "cell_type": "markdown",
   "id": "exterior-might",
   "metadata": {
    "slideshow": {
     "slide_type": "subslide"
    }
   },
   "source": [
    "https://www.slideshare.net/misterwang/pydata-past-present-future-pydata-sv-2014-keynote\n",
    "\n",
    "![Vamos, un lío](img/this-packaging-problem.jpg)"
   ]
  },
  {
   "cell_type": "markdown",
   "id": "amended-archives",
   "metadata": {
    "slideshow": {
     "slide_type": "subslide"
    }
   },
   "source": [
    "![Empecemos de nuevo](img/shaking-head-2.gif)"
   ]
  },
  {
   "cell_type": "markdown",
   "id": "psychological-tender",
   "metadata": {
    "slideshow": {
     "slide_type": "slide"
    }
   },
   "source": [
    "# Cómo instalar paquetes\n",
    "\n",
    "![Nivel básico](img/charmander.webp)"
   ]
  },
  {
   "cell_type": "markdown",
   "id": "alpine-incidence",
   "metadata": {
    "slideshow": {
     "slide_type": "subslide"
    }
   },
   "source": [
    "✨✨✨ _Instale el paquete deseado en dos sencillos pasos:_ ✨✨✨\n",
    "\n",
    "```\n",
    "$ source .venv/bin/activate\n",
    "(.venv) $ python -m pip install ipython\n",
    "```"
   ]
  },
  {
   "cell_type": "markdown",
   "id": "stainless-elimination",
   "metadata": {
    "slideshow": {
     "slide_type": "subslide"
    }
   },
   "source": [
    "> «¿Y no había otra cosa que se llamaba `easy`...?»\n",
    "\n",
    "Hagamos como que nunca existió 😇\n",
    "\n",
    "![easy_install ha muerto](img/codewithanthony2020.png)"
   ]
  },
  {
   "cell_type": "markdown",
   "id": "english-stanley",
   "metadata": {
    "slideshow": {
     "slide_type": "subslide"
    }
   },
   "source": [
    "> «Sí, pero... ¡es que yo lo quiero en uno!»\n",
    "\n",
    "Mal menor: pip nuevo ⚠️⚠️⚠️\n",
    "\n",
    "```\n",
    "$ pip install ipython  # Hmmm...\n",
    "```\n",
    "\n",
    "Por defecto se instala en `${HOME}/.local/lib` (a escondidas se ha usado `--user`). ¿Queremos eso?"
   ]
  },
  {
   "cell_type": "markdown",
   "id": "recreational-insertion",
   "metadata": {
    "slideshow": {
     "slide_type": "fragment"
    }
   },
   "source": [
    "```\n",
    "In [1]: import sys\n",
    "\n",
    "In [2]: sys.prefix\n",
    "Out[2]: '/usr'\n",
    "\n",
    "In [3]: import urllib3\n",
    "\n",
    "In [4]: urllib3.__file__\n",
    "Out[4]: '/usr/lib/python3/dist-packages/urllib3/__init__.py'\n",
    "\n",
    "In [3]: import IPython\n",
    "\n",
    "In [4]: IPython.__file__\n",
    "Out[4]: '/home/juanlu/.local/lib/python3.8/site-packages/IPython/__init__.py'\n",
    "```\n",
    "\n",
    "Ya tenemos dos localizaciones distintas 😨"
   ]
  },
  {
   "cell_type": "markdown",
   "id": "norwegian-guide",
   "metadata": {
    "slideshow": {
     "slide_type": "subslide"
    }
   },
   "source": [
    "> «Sí, pero... ¡es que yo lo quiero en uno!»\n",
    "\n",
    "Catástrofe en ciernes: pip viejo 🚨🚨🚨\n",
    "\n",
    "```\n",
    "$ pip install urllib3  # Hmmm...\n",
    "```"
   ]
  },
  {
   "cell_type": "markdown",
   "id": "korean-duration",
   "metadata": {
    "slideshow": {
     "slide_type": "fragment"
    }
   },
   "source": [
    "<pre><code style=\"color: #c00\">[Errno 13] Permission denied: '/usr/lib/python3.8'</code></pre>"
   ]
  },
  {
   "cell_type": "markdown",
   "id": "metric-adobe",
   "metadata": {
    "slideshow": {
     "slide_type": "fragment"
    }
   },
   "source": [
    "```\n",
    "$ sudo pip install urllib3  # NOOOOOOOOOOOOOOOOOOOOOOOOOOOOOOOO\n",
    "```"
   ]
  },
  {
   "cell_type": "markdown",
   "id": "crude-environment",
   "metadata": {
    "slideshow": {
     "slide_type": "fragment"
    }
   },
   "source": [
    "![Catástrofe](img/nuclear-explosion.gif)"
   ]
  },
  {
   "cell_type": "markdown",
   "id": "greatest-manner",
   "metadata": {
    "slideshow": {
     "slide_type": "subslide"
    }
   },
   "source": [
    "- Hacer `sudo pip install` 🚫 puede desestabilizar dependencias críticas de tu sistema\n",
    "  - Nótese que en Windows esto no es un problema\n",
    "- Para desarrollo, **nunca jamás se usa el Python del sistema**\n",
    "- ¡Siempre utilizar un **entorno virtual**!"
   ]
  },
  {
   "cell_type": "markdown",
   "id": "warming-career",
   "metadata": {
    "slideshow": {
     "slide_type": "fragment"
    }
   },
   "source": [
    "Opciones:\n",
    "\n",
    "- `venv` https://docs.python.org/3/library/venv.html ¡en la biblioteca estándar desde Python 3.3 (2012)!\n",
    "- `virtualenv` https://pypi.org/project/virtualenv/, más rápido y flexible ([recientemente resucitado por Bernát Gábor](https://discuss.python.org/t/virtualenv-20-0-0-beta1-is-available/3077?u=astrojuanlu))"
   ]
  },
  {
   "cell_type": "markdown",
   "id": "textile-composer",
   "metadata": {
    "slideshow": {
     "slide_type": "fragment"
    }
   },
   "source": [
    "Otras opciones:\n",
    "\n",
    "- `virtualenvwrapper` no tiene actividad desde febrero de 2019 😓 (¡aunque aún funciona!)\n",
    "- `pyenv` rompe el `$PATH` y algunos scripts 😓 https://github.com/pyenv/pyenv/issues/1112\n",
    "- `Pipenv` [trata de hacer demasiadas cosas](https://hynek.me/articles/python-app-deps-2018/#pipenv), [avanza con mucho esfuerzo](https://discuss.python.org/t/work-towards-next-pipenv-release/3781?u=astrojuanlu), y [tiene ciertos problemas](https://chriswarrick.com/blog/2018/07/17/pipenv-promises-a-lot-delivers-very-little/)\n",
    "- `Poetry` nunca lo usé 🤔"
   ]
  },
  {
   "cell_type": "markdown",
   "id": "fuzzy-preserve",
   "metadata": {
    "slideshow": {
     "slide_type": "subslide"
    }
   },
   "source": [
    "> ¿¿Y qué pasa con Alpine??\n",
    "\n",
    "```\n",
    "$ docker run -it --rm --name pip-wheel python:3.8-alpine sh\n",
    "/ # python -m pip install numpy\n",
    "Collecting numpy\n",
    "  Downloading numpy-1.20.1.zip (7.8 MB)\n",
    "     |████████████████████████████████| 7.8 MB 10.8 MB/s \n",
    "  Installing build dependencies ... done\n",
    "  Getting requirements to build wheel ... done\n",
    "    Preparing wheel metadata ... error\n",
    "```"
   ]
  },
  {
   "cell_type": "markdown",
   "id": "unlike-commodity",
   "metadata": {
    "slideshow": {
     "slide_type": "fragment"
    }
   },
   "source": [
    "<pre><code style=\"color: #c00\">\n",
    "    ERROR: Command errored out with exit status 1:\n",
    "     command: /usr/local/bin/python /usr/local/lib/python3.8/site-packages/pip/_vendor/pep517/_in_process.py prepare_metadata_for_build_wheel /tmp/tmpzz6m5yah\n",
    "         cwd: /tmp/pip-install-9mlwuba9/numpy\n",
    "    Complete output (226 lines):\n",
    "...\n",
    "      File \"numpy/core/setup.py\", line 676, in get_mathlib_info\n",
    "        raise RuntimeError(\"Broken toolchain: cannot link a simple C program\")\n",
    "    RuntimeError: Broken toolchain: cannot link a simple C program\n",
    "</code></pre>\n",
    "\n",
    "🤯"
   ]
  },
  {
   "cell_type": "markdown",
   "id": "ranging-international",
   "metadata": {
    "slideshow": {
     "slide_type": "subslide"
    }
   },
   "source": [
    "- Normalmente, pip descarga un [_Source Distribution_ o \"sdist\"](https://packaging.python.org/glossary/#term-Source-Distribution-or-sdist), que contiene todo lo necesario para instalar el paquete\n",
    "- Sin embargo, \"todo lo necesario\" a veces puede incluir código en C, C++, FORTRAN, Rust, JavaScript...\n",
    "- Y por tanto, ¡**necesito herramientas _que no se instalan con pip_**!"
   ]
  },
  {
   "cell_type": "markdown",
   "id": "artificial-madrid",
   "metadata": {
    "slideshow": {
     "slide_type": "fragment"
    }
   },
   "source": [
    "- [El PEP 427 define el formato `wheel`](https://www.python.org/dev/peps/pep-0427/) que resuelve este problema ofreciendo un [_Built Distribution_](https://packaging.python.org/glossary/#term-Built-Distribution)\n",
    "- ¡Simplemente extraer archivos! Más rápido de instalar, y ✨ no necesita nada más que pip ✨\n",
    "- El problema es que ¡este formato no es multiplataforma!"
   ]
  },
  {
   "cell_type": "markdown",
   "id": "million-danger",
   "metadata": {
    "slideshow": {
     "slide_type": "subslide"
    }
   },
   "source": [
    "El formato del nombre del archivo indica la compatibilidad:\n",
    "\n",
    "<pre><code><span style=\"background-color: #fcc\">{distribution}</span>-<span style=\"background-color: #ffc\">{version}(-{build tag})?</span>-<span style=\"background-color: #cfc\">{python tag}-{abi tag}</span>-<span style=\"background-color: #cff\">{platform tag}.whl</span></code></pre>\n",
    "\n",
    "Es decir:\n",
    "\n",
    "- `distribution`: Nombre del paquete (`Django`, `numpy`)\n",
    "- `version`: Versión (compatible con el [PEP 440](https://www.python.org/dev/peps/pep-0440/))\n",
    "- `python tag` y `abi tag`: Implementación de Python (`cp38`, `pp372-pypy3_72`)\n",
    "- `platform`: **Plataforma**"
   ]
  },
  {
   "cell_type": "markdown",
   "id": "alleged-accent",
   "metadata": {
    "slideshow": {
     "slide_type": "fragment"
    }
   },
   "source": [
    "Por ejemplo:\n",
    "\n",
    "```\n",
    "numpy-1.20.1-cp38-cp38-manylinux1_x86_64.whl\n",
    "```"
   ]
  },
  {
   "cell_type": "markdown",
   "id": "preceding-browser",
   "metadata": {
    "slideshow": {
     "slide_type": "fragment"
    }
   },
   "source": [
    "...\"many _what_\"???"
   ]
  },
  {
   "cell_type": "markdown",
   "id": "apart-assets",
   "metadata": {
    "slideshow": {
     "slide_type": "subslide"
    }
   },
   "source": [
    "> For Linux, the situation is much more delicate.\n",
    "\n",
    "[PEP 513 -- A Platform Tag for Portable Linux Built Distributions](https://www.python.org/dev/peps/pep-0513/)\n",
    "\n",
    "- No hay \"un\" Linux, hay muchos\n",
    "- Hay varias causas (explicadas en el PEP) de incompatibilidad entre binarios de Linux\n",
    "- La más importante, _dependencia dinámica en diferentes versiones de la GNU C Library, `glibc`_\n",
    "- El PEP 513 estandariza unas versiones mínimas, basadas en CentOS 5.11, y le da el nombre `manylinux1`\n",
    "- Después vinieron `manylinux2010` (CentOS 6), `manylinux2014` (CentOS 7), y vendrán más"
   ]
  },
  {
   "cell_type": "markdown",
   "id": "returning-running",
   "metadata": {
    "slideshow": {
     "slide_type": "fragment"
    }
   },
   "source": [
    "- ...pero es que Alpine **no usa `glibc`**, sino `musl`! 😭😭😭\n",
    "- Hay un [pre-PEP para crear wheels para `musl`](https://discuss.python.org/t/pre-pep-platform-tag-for-linux-distributions-using-musl/7165?u=astrojuanlu), pero de momento hay que usar métodos alternativos"
   ]
  },
  {
   "cell_type": "markdown",
   "id": "suitable-modern",
   "metadata": {
    "slideshow": {
     "slide_type": "subslide"
    }
   },
   "source": [
    "En resumen:\n",
    "\n",
    "- `python -m pip install` + `venv` = ❤️\n",
    "- pip está bien mantenido y está recibiendo muchas mejoras ❤️\n",
    "- ¡Cuidado con los wheels!"
   ]
  },
  {
   "cell_type": "markdown",
   "id": "complete-viewer",
   "metadata": {
    "slideshow": {
     "slide_type": "slide"
    }
   },
   "source": [
    "# Cómo especificar dependencias para aplicaciones \n",
    "\n",
    "![Nivel intermedio](img/charmeleon.webp)\n"
   ]
  },
  {
   "cell_type": "markdown",
   "id": "cooked-peter",
   "metadata": {
    "slideshow": {
     "slide_type": "subslide"
    }
   },
   "source": [
    "✨✨✨ _Especifique las dependencias deseadas en dos sencillos pasos:_ ✨✨✨\n",
    "\n",
    "```\n",
    "(.venv) $ echo \"django<3\" > requirements.in\n",
    "(.venv) $ python -m pip install pip-tools && pip-compile\n",
    "```"
   ]
  },
  {
   "cell_type": "markdown",
   "id": "chubby-accordance",
   "metadata": {
    "slideshow": {
     "slide_type": "subslide"
    }
   },
   "source": [
    "[pip-compile](https://pypi.org/project/pip-tools/) toma como entrada un archivo `requirements.in` y produce un `requirements.txt` con todas las versiones fijadas:\n",
    "\n",
    "```\n",
    "(.venv) $ cat requirements.txt\n",
    "#\n",
    "# This file is autogenerated by pip-compile\n",
    "# To update, run:\n",
    "#\n",
    "#    pip-compile\n",
    "#\n",
    "django==2.2.19\n",
    "    # via -r requirements.in\n",
    "pytz==2021.1\n",
    "    # via django\n",
    "sqlparse==0.4.1\n",
    "    # via django\n",
    "```\n",
    "\n",
    "Perfecto para tener un entorno reproducible 💯"
   ]
  },
  {
   "cell_type": "markdown",
   "id": "neural-sandwich",
   "metadata": {
    "slideshow": {
     "slide_type": "subslide"
    }
   },
   "source": [
    "Una vez fijadas, ¡por defecto no se actualizan! \n",
    "\n",
    "```\n",
    "(.venv) $ echo \"django\" > requirements.in\n",
    "(.venv) $ pip-compile\n",
    "#\n",
    "# This file is autogenerated by pip-compile\n",
    "# To update, run:\n",
    "#\n",
    "#    pip-compile\n",
    "#\n",
    "django==2.2.19\n",
    "    # via -r requirements.in\n",
    "pytz==2021.1\n",
    "    # via django\n",
    "sqlparse==0.4.1\n",
    "    # via django\n",
    "```\n",
    "\n",
    "Se acabaron los pipelines rotos por nuevas versiones ✨"
   ]
  },
  {
   "cell_type": "markdown",
   "id": "prepared-bacteria",
   "metadata": {
    "slideshow": {
     "slide_type": "subslide"
    }
   },
   "source": [
    "Solo se actualizan si lo pedimos:\n",
    "\n",
    "```\n",
    "(.venv) $ pip-compile -P django\n",
    "#\n",
    "# This file is autogenerated by pip-compile\n",
    "# To update, run:\n",
    "#\n",
    "#    pip-compile\n",
    "#\n",
    "asgiref==3.3.1\n",
    "    # via django\n",
    "django==3.1.7\n",
    "    # via -r requirements.in\n",
    "pytz==2021.1\n",
    "    # via django\n",
    "sqlparse==0.4.1\n",
    "    # via django\n",
    "```"
   ]
  },
  {
   "cell_type": "markdown",
   "id": "objective-sucking",
   "metadata": {
    "slideshow": {
     "slide_type": "subslide"
    }
   },
   "source": [
    "Y, para poner nuestro entorno al día:\n",
    "\n",
    "```\n",
    "(.venv) $ pip-sync\n",
    "Collecting asgiref==3.3.1\n",
    "  Using cached asgiref-3.3.1-py3-none-any.whl (19 kB)\n",
    "Collecting django==3.1.7\n",
    "  Using cached Django-3.1.7-py3-none-any.whl (7.8 MB)\n",
    "Collecting pytz==2021.1\n",
    "  Using cached pytz-2021.1-py2.py3-none-any.whl (510 kB)\n",
    "Collecting sqlparse==0.4.1\n",
    "  Using cached sqlparse-0.4.1-py3-none-any.whl (42 kB)\n",
    "Installing collected packages: sqlparse, pytz, asgiref, django\n",
    "Successfully installed asgiref-3.3.1 django-3.1.7 pytz-2021.1 sqlparse-0.4.1\n",
    "```"
   ]
  },
  {
   "cell_type": "markdown",
   "id": "regular-angel",
   "metadata": {
    "slideshow": {
     "slide_type": "fragment"
    }
   },
   "source": [
    "...que es casi lo mismo que hacer:\n",
    "\n",
    "```\n",
    "(.venv) $ python -m pip install -r requirements.txt \n",
    "Requirement already satisfied: asgiref==3.3.1 in ./.venv/lib/python3.8/site-packages (from -r requirements.txt (line 7)) (3.3.1)\n",
    "Requirement already satisfied: django==3.1.7 in ./.venv/lib/python3.8/site-packages (from -r requirements.txt (line 9)) (3.1.7)\n",
    "Requirement already satisfied: pytz==2021.1 in ./.venv/lib/python3.8/site-packages (from -r requirements.txt (line 11)) (2021.1)\n",
    "Requirement already satisfied: sqlparse==0.4.1 in ./.venv/lib/python3.8/site-packages (from -r requirements.txt (line 13)) (0.4.1)\n",
    "```\n",
    "\n",
    "😍😍😍"
   ]
  },
  {
   "cell_type": "markdown",
   "id": "stupid-activation",
   "metadata": {
    "slideshow": {
     "slide_type": "subslide"
    }
   },
   "source": [
    "Otras alternativas:\n",
    "\n",
    "- Ya hemos hablado de `Pipenv`\n",
    "- No puedo agregar mucho sobre `Poetry`\n",
    "- ~`setup.py`~ ¡Calma! No hemos llegado aún, [y además no es exactamente para esto](https://caremad.io/posts/2013/07/setup-vs-requirement/)"
   ]
  },
  {
   "cell_type": "markdown",
   "id": "welcome-yacht",
   "metadata": {
    "slideshow": {
     "slide_type": "subslide"
    }
   },
   "source": [
    "En resumen:\n",
    "\n",
    "- `pip-compile` + `pip-sync` (o simplemente `pip`) = ❤️\n",
    "- _Todo el mundo_ entiende `requirements.txt`, ¡usémoslo!\n",
    "- Básicamente, haced caso a Hynek https://hynek.me/articles/python-app-deps-2018/"
   ]
  },
  {
   "cell_type": "markdown",
   "id": "about-period",
   "metadata": {
    "slideshow": {
     "slide_type": "slide"
    }
   },
   "source": [
    "# Cómo distribuir código \n",
    "\n",
    "![Nivel avanzado](img/charizard.webp)"
   ]
  },
  {
   "cell_type": "markdown",
   "id": "close-repository",
   "metadata": {
    "slideshow": {
     "slide_type": "subslide"
    }
   },
   "source": [
    "✨✨✨ _Distribuya su código en tres sencillos pasos:_ ✨✨✨\n",
    "\n",
    "```\n",
    "(.venv) $ cat saludo.py  # Este no cuenta ;)\n",
    "\"\"\"\n",
    "Un saludo\n",
    "\"\"\"\n",
    "\n",
    "__version__ = \"0.1.0\"\n",
    "\n",
    "print(\"¡Hola, mundo!\")\n",
    "(.venv) $ python -m pip install flit && flit init\n",
    "(.venv) $ python -m pip install build && python -m build\n",
    "(.venv) $ python -m pip install twine && twine upload dist/*\n",
    "```"
   ]
  },
  {
   "cell_type": "markdown",
   "id": "statewide-harassment",
   "metadata": {
    "slideshow": {
     "slide_type": "subslide"
    }
   },
   "source": [
    "Pero, ¿qué es flit, y qué está pasando aquí?\n",
    "\n",
    "```\n",
    "(.venv) $ ls\n",
    "dist  LICENSE  pyproject.toml  saludo.py\n",
    "```"
   ]
  },
  {
   "cell_type": "markdown",
   "id": "angry-programmer",
   "metadata": {
    "slideshow": {
     "slide_type": "fragment"
    }
   },
   "source": [
    "**¡No hay `setup.py`!** 😮 Rebobinemos por un momento..."
   ]
  },
  {
   "cell_type": "markdown",
   "id": "located-container",
   "metadata": {
    "slideshow": {
     "slide_type": "subslide"
    }
   },
   "source": [
    "- Tradicionalmente siempre se han usado archivos `setup.py` para especificar **los metadatos** del proyecto\n",
    "- Estos archivos suelen empezar así:\n",
    "\n",
    "```python\n",
    "from setuptools import setup\n",
    "\n",
    "setup(\n",
    "    ...\n",
    "```\n",
    "\n",
    "- ...pero, como hemos visto arriba, `setuptools` tiene _ejem_ algunos detractores\n",
    "- Necesitamos eliminar el acoplamiento entre el _**backend**_ (`setuptools`) y el _**frontend**_ (`pip`)"
   ]
  },
  {
   "cell_type": "markdown",
   "id": "demonstrated-motion",
   "metadata": {
    "slideshow": {
     "slide_type": "subslide"
    }
   },
   "source": [
    "> «¿No había otra cosa que se llamaba...?»\n",
    "\n",
    "Elevemos una oración por su alma 😇\n",
    "\n",
    "![distutils ha muerto](img/zooba2020.png)"
   ]
  },
  {
   "cell_type": "markdown",
   "id": "unavailable-smile",
   "metadata": {
    "slideshow": {
     "slide_type": "subslide"
    }
   },
   "source": [
    "- El [PEP 518](https://www.python.org/dev/peps/pep-0518/) estandariza una forma de especificar las **dependencias en tiempo de instalación**, que se escriben en el nuevo `pyproject.toml`\n",
    "  - ¡No confundir con las _dependencias en tiempo de ejecución_!\n",
    "- Y el [PEP 517](https://www.python.org/dev/peps/pep-0517/) estandariza una forma de especificar **cómo el frontend tiene que llamar al backend**\n",
    "\n",
    "```toml\n",
    "[build-system]\n",
    "requires = [\"setuptools\", \"wheel\"]  # PEP 518\n",
    "build-backend = \"setuptools.build_meta\"  # PEP 517\n",
    "```\n",
    "\n",
    "(Para más información, [Brett Cannon lo explica muy bien](https://snarky.ca/clarifying-pep-518/))"
   ]
  },
  {
   "cell_type": "markdown",
   "id": "lonely-simulation",
   "metadata": {
    "slideshow": {
     "slide_type": "subslide"
    }
   },
   "source": [
    "Por tanto, en lugar de hacer el antiguo:\n",
    "\n",
    "```\n",
    "(.venv) $ python setup.py install  # Buuuuuuuuuuuuuu 👎\n",
    "```"
   ]
  },
  {
   "cell_type": "markdown",
   "id": "analyzed-cabin",
   "metadata": {
    "slideshow": {
     "slide_type": "fragment"
    }
   },
   "source": [
    "¡Ahora podemos hacer esto!\n",
    "\n",
    "```\n",
    "(.venv) $ python -m pip install .\n",
    "```\n",
    "\n",
    "Y `pip` ya sabe hacer el resto 🎉"
   ]
  },
  {
   "cell_type": "markdown",
   "id": "conditional-diving",
   "metadata": {
    "slideshow": {
     "slide_type": "fragment"
    }
   },
   "source": [
    "De paso, ¡`python -m pip uninstall` funciona! ✨"
   ]
  },
  {
   "cell_type": "markdown",
   "id": "peaceful-example",
   "metadata": {
    "slideshow": {
     "slide_type": "subslide"
    }
   },
   "source": [
    "Insisto: dejad de ejecutar `setup.py`. Haced caso a Paul, es muy majete.\n",
    "\n",
    "![Nunca uses setup.py](img/pganssle2020.png)"
   ]
  },
  {
   "cell_type": "markdown",
   "id": "documented-sleeping",
   "metadata": {
    "slideshow": {
     "slide_type": "subslide"
    }
   },
   "source": [
    "Equivalencias:\n",
    "\n",
    "- `python setup.py install` -> `python -m pip install .`\n",
    "- `python setup.py develop` -> `python -m pip install -e .` ([\"instalaciones editables\"](https://pip.pypa.io/en/latest/reference/pip_install/#editable-installs), ¡muy útiles!)\n",
    "- `python setup.py sdist bdist_wheel` -> `python -m build` (en seguida lo explicamos)"
   ]
  },
  {
   "cell_type": "markdown",
   "id": "visible-respondent",
   "metadata": {
    "slideshow": {
     "slide_type": "subslide"
    }
   },
   "source": [
    "- Algunos `setup.py` son **endiablados** 😵 (por ejemplo el de [SciPy](https://github.com/scipy/scipy/blob/master/setup.py)) - por suerte, `setuptools` permite todo esto y más\n",
    "- Si necesitas `setuptools`, es recomendable usar [metadatos estáticos en `setup.cfg`](https://setuptools.readthedocs.io/en/latest/userguide/quickstart.html#basic-use):\n",
    "\n",
    "```\n",
    "[metadata]\n",
    "name = mypackage\n",
    "version = 0.0.1\n",
    "\n",
    "[options]\n",
    "packages = mypackage\n",
    "install_requires =\n",
    "  requests\n",
    "  importlib; python_version == \"2.6\"\n",
    "```\n",
    "\n",
    "- Sin embargo, ¡muchos proyectos no necesitan esa complejidad!"
   ]
  },
  {
   "cell_type": "markdown",
   "id": "acceptable-boards",
   "metadata": {
    "slideshow": {
     "slide_type": "subslide"
    }
   },
   "source": [
    "Y para eso tenemos [`flit`](https://flit.readthedocs.io/):\n",
    "\n",
    "```\n",
    "(.venv) $ flit init\n",
    "Module name [saludo]: \n",
    "Author [Juan Luis Cano Rodríguez]: \n",
    "Author email [hello@juanlu.space]: \n",
    "Home page [https://github.com/astrojuanlu/python-saludo]: \n",
    "Choose a license (see http://choosealicense.com/ for more info)\n",
    "1. MIT - simple and permissive\n",
    "2. Apache - explicitly grants patent rights\n",
    "3. GPL - ensures that code based on this is shared with the same terms\n",
    "4. Skip - choose a license later\n",
    "Enter 1-4 [1]: \n",
    "\n",
    "Written pyproject.toml; edit that file to add optional extra info.\n",
    "```"
   ]
  },
  {
   "cell_type": "markdown",
   "id": "subtle-amazon",
   "metadata": {
    "slideshow": {
     "slide_type": "fragment"
    }
   },
   "source": [
    "```\n",
    "(.venv) $ cat pyproject.toml\n",
    "[build-system]\n",
    "requires = [\"flit_core >=2,<4\"]\n",
    "build-backend = \"flit_core.buildapi\"\n",
    "\n",
    "[tool.flit.metadata]\n",
    "module = \"saludo\"\n",
    "author = \"Juan Luis Cano Rodríguez\"\n",
    "author-email = \"hello@juanlu.space\"\n",
    "home-page = \"https://github.com/astrojuanlu/python-saludo\"\n",
    "classifiers = [ \"License :: OSI Approved :: MIT License\",]\n",
    "```\n",
    "\n",
    "¡Y nada más! ✨"
   ]
  },
  {
   "cell_type": "markdown",
   "id": "painful-redhead",
   "metadata": {
    "slideshow": {
     "slide_type": "subslide"
    }
   },
   "source": [
    "Y ha llegado el momento de la verdad: generamos nuestras _Source Distribution_ y _Built Distribution_ usando [`build`](https://pypa-build.readthedocs.io/):\n",
    "\n",
    "```\n",
    "(.venv) $ python -m build\n",
    "(.venv) $ ls dist/\n",
    "saludo-0.1.0-py2.py3-none-any.whl  saludo-0.1.0.tar.gz\n",
    "```"
   ]
  },
  {
   "cell_type": "markdown",
   "id": "oriented-conversion",
   "metadata": {
    "slideshow": {
     "slide_type": "fragment"
    }
   },
   "source": [
    "...¡y las subimos a [PyPI](https://pypi.org/) usando [`twine`](https://twine.readthedocs.io/)!\n",
    "\n",
    "```\n",
    "(.venv) $ twine upload dist/*\n",
    "```\n",
    "\n",
    "![PyPI](img/pypi-logo.svg)"
   ]
  },
  {
   "cell_type": "markdown",
   "id": "miniature-implement",
   "metadata": {
    "slideshow": {
     "slide_type": "fragment"
    }
   },
   "source": [
    "(¡o al [PyPI interno de tu empresa](https://pypi.org/project/pypiserver/)!)"
   ]
  },
  {
   "cell_type": "markdown",
   "id": "taken-description",
   "metadata": {
    "slideshow": {
     "slide_type": "subslide"
    }
   },
   "source": [
    "> «¿Significa eso que, dependiendo de si elijo `setuptools`, `flit`, o `poetry`, tengo que especificar los metadatos de una manera totalmente distinta?»\n",
    "\n",
    "Sí 😓"
   ]
  },
  {
   "cell_type": "markdown",
   "id": "sonic-politics",
   "metadata": {
    "slideshow": {
     "slide_type": "fragment"
    }
   },
   "source": [
    "...¡pero no por mucho tiempo!\n",
    "\n",
    "![PEP 621](img/brettsky2021.png)"
   ]
  },
  {
   "cell_type": "markdown",
   "id": "lightweight-copying",
   "metadata": {
    "slideshow": {
     "slide_type": "subslide"
    }
   },
   "source": [
    "- El [PEP 621](https://www.python.org/dev/peps/pep-0621/) estandariza [cómo especificar los metadatos del proyecto en `pyproject.toml`](https://packaging.python.org/specifications/declaring-project-metadata/)\n",
    "- ¡Se escribió con `setuptools`, `flit`, y `poetry` en mente!\n",
    "- Aún no tiene implementación de referencia...\n",
    "- ...pero [Thomas Kluyver abrió un pull request para `flit` hace pocos días](https://github.com/takluyver/flit/pull/393) 😍"
   ]
  },
  {
   "cell_type": "markdown",
   "id": "modified-conservative",
   "metadata": {
    "slideshow": {
     "slide_type": "subslide"
    }
   },
   "source": [
    "Alternativas:\n",
    "\n",
    "- ¡`Poetry`!\n",
    "- `enscons` (poca actividad en GitHub)\n",
    "- `scikit-build` o `mesonpep517` para código con extensiones en C, C++, FORTRAN u otros\n",
    "- ?"
   ]
  },
  {
   "cell_type": "markdown",
   "id": "victorian-convert",
   "metadata": {
    "slideshow": {
     "slide_type": "subslide"
    }
   },
   "source": [
    "En resumen:\n",
    "\n",
    "- `flit` + `build` + `twine` = ❤️\n",
    "- Para las cosas complicadas, siempre estará `setuptools`\n",
    "- **No importa qué sistema usemos, pronto `pyproject.toml` será parecido en todos**"
   ]
  },
  {
   "cell_type": "markdown",
   "id": "silent-maldives",
   "metadata": {
    "slideshow": {
     "slide_type": "slide"
    }
   },
   "source": [
    "✨ Resumen del resumen: https://github.com/astrojuanlu/cookiecutter-pylib ✨"
   ]
  },
  {
   "cell_type": "markdown",
   "id": "pleasant-hepatitis",
   "metadata": {
    "slideshow": {
     "slide_type": "slide"
    }
   },
   "source": [
    "# Conclusiones\n",
    "\n",
    "- ¡Larga vida a `pip`! 🎉 Y nunca jamás nombrar a `easy_install` 🚫\n",
    "- ¡Larga vida a `venv`! 🎉 Y nunca jamás hacer `sudo pip install` 🚫\n",
    "- ¡Larga vida a los wheels! 🎉 Y si no hay para tu plataforma, tendrás que compilarlo o buscar una alternativa 🔨\n",
    "- ¡Larga vida a `flit`! 🎉 Y, si lo necesitas, puedes seguir usando `setuptools` ✔️\n",
    "- No te compliques la vida 😉 https://github.com/astrojuanlu/cookiecutter-pylib\n",
    "- ¡Y nos mantenemos en contacto! `<hello@juanlu.space>`\n",
    "\n",
    "## ¡Muchas gracias!\n",
    "\n",
    "[![El ornitorrinco de la paquetería](img/platypus.png)](https://discuss.python.org/t/the-packaging-platypus/1939?u=astrojuanlu)"
   ]
  }
 ],
 "metadata": {
  "celltoolbar": "Slideshow",
  "kernelspec": {
   "display_name": "Python 3",
   "language": "python",
   "name": "python3"
  },
  "language_info": {
   "codemirror_mode": {
    "name": "ipython",
    "version": 3
   },
   "file_extension": ".py",
   "mimetype": "text/x-python",
   "name": "python",
   "nbconvert_exporter": "python",
   "pygments_lexer": "ipython3",
   "version": "3.8.5"
  }
 },
 "nbformat": 4,
 "nbformat_minor": 5
}
