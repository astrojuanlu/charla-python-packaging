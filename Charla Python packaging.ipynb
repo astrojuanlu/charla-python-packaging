{
 "cells": [
  {
   "cell_type": "markdown",
   "id": "finnish-grenada",
   "metadata": {
    "slideshow": {
     "slide_type": "slide"
    }
   },
   "source": [
    "![Python packaging: Lo estás haciendo mal](img/cover.jpeg)\n",
    "\n",
    "## 2021-03-04 @ Python Madrid"
   ]
  },
  {
   "cell_type": "markdown",
   "id": "hollywood-taste",
   "metadata": {
    "slideshow": {
     "slide_type": "slide"
    }
   },
   "source": [
    "# Resumen\n",
    "\n",
    "1. Introducción\n",
    "2. Brevísima historia de una pesadilla\n",
    "3. Cómo instalar paquetes\n",
    "4. Cómo especificar dependencias para aplicaciones\n",
    "5. Cómo distribuir código\n",
    "6. Conclusiones y preguntas"
   ]
  },
  {
   "cell_type": "markdown",
   "id": "distributed-hybrid",
   "metadata": {
    "slideshow": {
     "slide_type": "skip"
    }
   },
   "source": [
    "### Preguntas hechas con antelación en el Meetup\n",
    "\n",
    "---\n",
    "\n",
    "Casos de uso para:\n",
    "\n",
    "- Installation: python setup.py install\n",
    "- Software dist: python setup.py sdist\n",
    "- Binary dist: python setup.py bdist\n",
    "\n",
    "---\n",
    "\n",
    "Compatibilidad poetry vs buildpacks, gracias!\n",
    "\n",
    "https://github.com/heroku/heroku-buildpack-python/issues/796\n",
    "\n",
    "---\n",
    "\n",
    "¿Por qué todavía seguimos diferenciando entre librería y aplicación?\n",
    "¿Cuándo estará disponible para su uso general lo especificado en el PEP631?\n",
    "¿Qué es un Platypus?\n",
    "\n",
    "---\n",
    "\n",
    "Cómo referenciar paquetes privados para que puedan instalarse con pip en distintos entornos de CI/CD\n",
    "\n",
    "---\n",
    "\n",
    "Integración y despliegue continuo, cómo organizarlo en grandes empresas, artefactory, Jenkins, etc. convivencia con otros proyectos, puesta en producción.\n",
    "\n",
    "---\n",
    "\n",
    "Instalación para Alpine linux mini root fs para containers!\n",
    "\n",
    "---\n",
    "\n",
    "* tips para pasar un poyecto legacy en pip a poetry (requirements a toml).\n",
    "* Manejo de multilenguaje y compilado de diccionarios en la instalación\n",
    "\n",
    "---\n",
    "\n",
    "Como instalar una libreria de manera agnostica con el host?, me refiero a instalar una libreria en windows pero con arquitectura x86 linux.\n",
    "\n",
    "Ya que tuve un proyecto y la unica solucion fue descargar una ISO de un ubuntu server x86 y ahi hacer el pip install (en ese caso fue PARAMIKO) ya que donde yo ejecutaba mi Script tenian ese SO y yo desarrollaba en una MAC y me marcaba error por los HEADERS del OS."
   ]
  },
  {
   "cell_type": "markdown",
   "id": "utility-aerospace",
   "metadata": {
    "slideshow": {
     "slide_type": "slide"
    }
   },
   "source": [
    "# ¿Quién es este?\n",
    "\n",
    "<img src=\"img/yo.jpg\" alt=\"¡Yo!\" style=\"width: 35%; float: right\" />\n",
    "\n",
    "<ul style=\"width: 55%\">\n",
    "    <li><strong>Ingeniero aeroespacial</strong> con pasión por las órbitas 🛰</li>\n",
    "    <li>Ex presidente y fundador de <strong>Python España</strong> y ex organizador de <strong>PyCon España</strong> y <strong>Python Madrid</strong> 🐍</li>\n",
    "    <li><strong>Mission Planning &nbsp; Execution Engineer</strong> en <strong>Satellogic</strong> 🌍</li>\n",
    "    <li><em>I code like a girl 🌈</em></li>\n",
    "    <li>Activista del Conocimiento Libre y la Ciencia Abierta 🄯</li>\n",
    "    <li>Melómano 🎸</li>\n",
    "</ul>\n",
    "\n",
    "Sígueme! https://github.com/astrojuanlu/\n",
    "\n",
    "<div style=\"float: clear\"></div>"
   ]
  },
  {
   "cell_type": "markdown",
   "id": "canadian-tutorial",
   "metadata": {
    "slideshow": {
     "slide_type": "slide"
    }
   },
   "source": [
    "# Una aclaración importante\n",
    "\n",
    "![Paternalista](img/paternalista.jpg)"
   ]
  },
  {
   "cell_type": "markdown",
   "id": "statewide-break",
   "metadata": {
    "slideshow": {
     "slide_type": "skip"
    }
   },
   "source": [
    "- \"Lo estás haciendo mal\" es un título condescendiente a propósito a modo de broma\n",
    "- Hay valor en tener unas buenas prácticas comunes: reducir la fricción entre proyectos y poder dedicarnos a lo importante"
   ]
  },
  {
   "cell_type": "markdown",
   "id": "tracked-muscle",
   "metadata": {
    "slideshow": {
     "slide_type": "slide"
    }
   },
   "source": [
    "# Brevísima historia de una pesadilla\n",
    "\n",
    "## O «cómo aprendimos a odiar pip»"
   ]
  },
  {
   "cell_type": "markdown",
   "id": "detailed-yemen",
   "metadata": {
    "slideshow": {
     "slide_type": "subslide"
    }
   },
   "source": [
    "![Jannis Leidel, 2009](img/jezdez2009.png)"
   ]
  },
  {
   "cell_type": "markdown",
   "id": "substantial-duncan",
   "metadata": {
    "slideshow": {
     "slide_type": "fragment"
    }
   },
   "source": [
    "![Martin Natano, 2014](img/martinnatano2014.png)"
   ]
  },
  {
   "cell_type": "markdown",
   "id": "photographic-ordinary",
   "metadata": {
    "slideshow": {
     "slide_type": "subslide"
    }
   },
   "source": [
    "![\"Una abominación\"](img/fperez_org2012.png)"
   ]
  },
  {
   "cell_type": "markdown",
   "id": "animal-pledge",
   "metadata": {
    "slideshow": {
     "slide_type": "subslide"
    }
   },
   "source": [
    "### 2013\n",
    "\n",
    "![¡Camaradas!](img/python_comrades-orig.png)"
   ]
  },
  {
   "cell_type": "markdown",
   "id": "balanced-tyler",
   "metadata": {
    "slideshow": {
     "slide_type": "subslide"
    }
   },
   "source": [
    "![\"Malware\"](img/dwf2015.png)"
   ]
  },
  {
   "cell_type": "markdown",
   "id": "concerned-ownership",
   "metadata": {
    "slideshow": {
     "slide_type": "subslide"
    }
   },
   "source": [
    "### ???\n",
    "\n",
    "![¿Camaradas...?](img/python_comrades-edit.png)"
   ]
  },
  {
   "cell_type": "markdown",
   "id": "exterior-might",
   "metadata": {
    "slideshow": {
     "slide_type": "subslide"
    }
   },
   "source": [
    "https://www.slideshare.net/misterwang/pydata-past-present-future-pydata-sv-2014-keynote\n",
    "\n",
    "![Vamos, un lío](img/this-packaging-problem.jpg)"
   ]
  },
  {
   "cell_type": "markdown",
   "id": "amended-archives",
   "metadata": {
    "slideshow": {
     "slide_type": "subslide"
    }
   },
   "source": [
    "![Empecemos de nuevo](img/shaking-head-2.gif)"
   ]
  },
  {
   "cell_type": "markdown",
   "id": "psychological-tender",
   "metadata": {
    "slideshow": {
     "slide_type": "slide"
    }
   },
   "source": [
    "# Cómo instalar paquetes\n",
    "\n",
    "![Nivel básico](img/charmander.webp)"
   ]
  },
  {
   "cell_type": "markdown",
   "id": "alpine-incidence",
   "metadata": {
    "slideshow": {
     "slide_type": "subslide"
    }
   },
   "source": [
    "✨✨✨ _Instale el paquete deseado en dos sencillos pasos:_ ✨✨✨\n",
    "\n",
    "```\n",
    "$ source .venv/bin/activate\n",
    "(.venv) $ python -m pip install ipython\n",
    "```"
   ]
  },
  {
   "cell_type": "markdown",
   "id": "stainless-elimination",
   "metadata": {
    "slideshow": {
     "slide_type": "subslide"
    }
   },
   "source": [
    "> «Sí, pero... ¡es que yo lo quiero en uno!»\n",
    "\n",
    "Mal menor: pip nuevo ⚠️⚠️⚠️\n",
    "\n",
    "```\n",
    "$ pip install ipython  # Hmmm...\n",
    "```\n",
    "\n",
    "Por defecto se instala en `${HOME}/.local/lib` (a escondidas se ha usado `--user`). ¿Queremos eso?"
   ]
  },
  {
   "cell_type": "markdown",
   "id": "recreational-insertion",
   "metadata": {
    "slideshow": {
     "slide_type": "fragment"
    }
   },
   "source": [
    "```\n",
    "In [1]: import sys\n",
    "\n",
    "In [2]: sys.prefix\n",
    "Out[2]: '/usr'\n",
    "\n",
    "In [3]: import urllib3\n",
    "\n",
    "In [4]: urllib3.__file__\n",
    "Out[4]: '/usr/lib/python3/dist-packages/urllib3/__init__.py'\n",
    "\n",
    "In [3]: import IPython\n",
    "\n",
    "In [4]: IPython.__file__\n",
    "Out[4]: '/home/juanlu/.local/lib/python3.8/site-packages/IPython/__init__.py'\n",
    "```\n",
    "\n",
    "Ya tenemos dos localizaciones distintas 😨"
   ]
  },
  {
   "cell_type": "markdown",
   "id": "norwegian-guide",
   "metadata": {
    "slideshow": {
     "slide_type": "subslide"
    }
   },
   "source": [
    "> «Sí, pero... ¡es que yo lo quiero en uno!»\n",
    "\n",
    "Catástrofe en ciernes: pip viejo 🚨🚨🚨\n",
    "\n",
    "```\n",
    "$ pip install urllib3  # Hmmm...\n",
    "```"
   ]
  },
  {
   "cell_type": "markdown",
   "id": "korean-duration",
   "metadata": {
    "slideshow": {
     "slide_type": "fragment"
    }
   },
   "source": [
    "<pre><code style=\"color: #c00\">[Errno 13] Permission denied: '/usr/lib/python3.8'</code></pre>"
   ]
  },
  {
   "cell_type": "markdown",
   "id": "metric-adobe",
   "metadata": {
    "slideshow": {
     "slide_type": "fragment"
    }
   },
   "source": [
    "```\n",
    "$ sudo pip install urllib3  # NOOOOOOOOOOOOOOOOOOOOOOOOOOOOOOOO\n",
    "```"
   ]
  },
  {
   "cell_type": "markdown",
   "id": "crude-environment",
   "metadata": {
    "slideshow": {
     "slide_type": "fragment"
    }
   },
   "source": [
    "![Catástrofe](img/nuclear-explosion.gif)"
   ]
  },
  {
   "cell_type": "markdown",
   "id": "greatest-manner",
   "metadata": {
    "slideshow": {
     "slide_type": "subslide"
    }
   },
   "source": [
    "- Hacer `sudo pip install` 🚫 puede desestabilizar dependencias críticas de tu sistema\n",
    "  - Nótese que en Windows esto no es un problema\n",
    "- Para desarrollo, **nunca jamás se usa el Python del sistema**\n",
    "- ¡Siempre utilizar un **entorno virtual**!"
   ]
  },
  {
   "cell_type": "markdown",
   "id": "warming-career",
   "metadata": {
    "slideshow": {
     "slide_type": "fragment"
    }
   },
   "source": [
    "Opciones:\n",
    "\n",
    "- `venv` https://docs.python.org/3/library/venv.html ¡en la biblioteca estándar desde Python 3.3 (2012)!\n",
    "- `virtualenv` https://pypi.org/project/virtualenv/, más rápido y flexible ([recientemente resucitado por Bernát Gábor](https://discuss.python.org/t/virtualenv-20-0-0-beta1-is-available/3077?u=astrojuanlu))"
   ]
  },
  {
   "cell_type": "markdown",
   "id": "textile-composer",
   "metadata": {
    "slideshow": {
     "slide_type": "fragment"
    }
   },
   "source": [
    "Otras opciones:\n",
    "\n",
    "- `virtualenvwrapper` no tiene actividad desde febrero de 2019 😓 (¡aunque aún funciona!)\n",
    "- `pyenv` rompe el `$PATH` y algunos scripts 😓 https://github.com/pyenv/pyenv/issues/1112\n",
    "- `Pipenv` [trata de hacer demasiadas cosas](https://hynek.me/articles/python-app-deps-2018/#pipenv), [avanza con mucho esfuerzo](https://discuss.python.org/t/work-towards-next-pipenv-release/3781?u=astrojuanlu), y [tiene ciertos problemas](https://chriswarrick.com/blog/2018/07/17/pipenv-promises-a-lot-delivers-very-little/)\n",
    "- `Poetry` nunca lo usé 🤔"
   ]
  },
  {
   "cell_type": "markdown",
   "id": "fuzzy-preserve",
   "metadata": {
    "slideshow": {
     "slide_type": "subslide"
    }
   },
   "source": [
    "> ¿¿Y qué pasa con Alpine??\n",
    "\n",
    "```\n",
    "$ docker run -it --rm --name pip-wheel python:3.8-alpine sh\n",
    "/ # python -m pip install numpy\n",
    "Collecting numpy\n",
    "  Downloading numpy-1.20.1.zip (7.8 MB)\n",
    "     |████████████████████████████████| 7.8 MB 10.8 MB/s \n",
    "  Installing build dependencies ... done\n",
    "  Getting requirements to build wheel ... done\n",
    "    Preparing wheel metadata ... error\n",
    "```"
   ]
  },
  {
   "cell_type": "markdown",
   "id": "unlike-commodity",
   "metadata": {
    "slideshow": {
     "slide_type": "fragment"
    }
   },
   "source": [
    "<pre><code style=\"color: #c00\">\n",
    "    ERROR: Command errored out with exit status 1:\n",
    "     command: /usr/local/bin/python /usr/local/lib/python3.8/site-packages/pip/_vendor/pep517/_in_process.py prepare_metadata_for_build_wheel /tmp/tmpzz6m5yah\n",
    "         cwd: /tmp/pip-install-9mlwuba9/numpy\n",
    "    Complete output (226 lines):\n",
    "...\n",
    "      File \"numpy/core/setup.py\", line 676, in get_mathlib_info\n",
    "        raise RuntimeError(\"Broken toolchain: cannot link a simple C program\")\n",
    "    RuntimeError: Broken toolchain: cannot link a simple C program\n",
    "</code></pre>\n",
    "\n",
    "🤯"
   ]
  },
  {
   "cell_type": "markdown",
   "id": "ranging-international",
   "metadata": {
    "slideshow": {
     "slide_type": "subslide"
    }
   },
   "source": [
    "- Normalmente, pip descarga un [_Source Distribution_ o \"sdist\"](https://packaging.python.org/glossary/#term-Source-Distribution-or-sdist), que contiene todo lo necesario para instalar el paquete\n",
    "- Sin embargo, \"todo lo necesario\" a veces puede incluir código en C, C++, FORTRAN, Rust, JavaScript...\n",
    "- Y por tanto, ¡**necesito herramientas _que no se instalan con pip_**!"
   ]
  },
  {
   "cell_type": "markdown",
   "id": "artificial-madrid",
   "metadata": {
    "slideshow": {
     "slide_type": "fragment"
    }
   },
   "source": [
    "- [El PEP 427 define el formato `wheel`](https://www.python.org/dev/peps/pep-0427/) que resuelve este problema ofreciendo un [_Built Distribution_](https://packaging.python.org/glossary/#term-Built-Distribution)\n",
    "- ¡Simplemente extraer archivos! Más rápido de instalar, y ✨ no necesita nada más que pip ✨\n",
    "- Sin embargo, ¡este formato no es multiplataforma!"
   ]
  },
  {
   "cell_type": "markdown",
   "id": "divine-joshua",
   "metadata": {
    "slideshow": {
     "slide_type": "subslide"
    }
   },
   "source": [
    "El formato del nombre del archivo indica la compatibilidad:\n",
    "\n",
    "<pre><code><span style=\"background-color: #fcc\">{distribution}</span>-<span style=\"background-color: #ffc\">{version}(-{build tag})?</span>-<span style=\"background-color: #cfc\">{python tag}-{abi tag}</span>-<span style=\"background-color: #cff\">{platform tag}.whl</span></code></pre>\n",
    "\n",
    "- `distribution`: Nombre del paquete (`Django`, `numpy`)\n",
    "- `version`: Versión (compatible con el [PEP 440](https://www.python.org/dev/peps/pep-0440/))\n",
    "- `python tag` y `abi tag`: Implementación de Python (`cp38`, `pp372-pypy3_72`)\n",
    "- `platform`: **Plataforma**"
   ]
  },
  {
   "cell_type": "markdown",
   "id": "alleged-accent",
   "metadata": {
    "slideshow": {
     "slide_type": "fragment"
    }
   },
   "source": [
    "Por ejemplo:\n",
    "\n",
    "```\n",
    "numpy-1.20.1-cp38-cp38-manylinux1_x86_64.whl\n",
    "```"
   ]
  },
  {
   "cell_type": "markdown",
   "id": "first-document",
   "metadata": {
    "slideshow": {
     "slide_type": "fragment"
    }
   },
   "source": [
    "...\"many _what_\"???"
   ]
  },
  {
   "cell_type": "markdown",
   "id": "champion-thanksgiving",
   "metadata": {
    "slideshow": {
     "slide_type": "subslide"
    }
   },
   "source": [
    "> For Linux, the situation is much more delicate.\n",
    "\n",
    "[PEP 513 -- A Platform Tag for Portable Linux Built Distributions](https://www.python.org/dev/peps/pep-0513/)\n",
    "\n",
    "- No hay \"un\" Linux, hay muchos\n",
    "- Hay varias causas (explicadas en el PEP) de incompatibilidad entre binarios de Linux\n",
    "- La más importante, _dependencia dinámica en diferentes versiones de la GNU C Library, `glibc`_\n",
    "- El PEP 513 estandariza unas versiones mínimas, basadas en CentOS 5.11, y le da el nombre `manylinux1`\n",
    "- Después vinieron `manylinux2010` (CentOS 6), `manylinux2014` (CentOS 7), y vendrán más"
   ]
  },
  {
   "cell_type": "markdown",
   "id": "sudden-breeding",
   "metadata": {
    "slideshow": {
     "slide_type": "fragment"
    }
   },
   "source": [
    "- ...pero es que Alpine **no usa `glibc`**, sino `musl`! 😭😭😭\n",
    "- Hay un [pre-PEP para crear wheels para `musl`](https://discuss.python.org/t/pre-pep-platform-tag-for-linux-distributions-using-musl/7165?u=astrojuanlu), pero de momento hay que usar métodos alternativos"
   ]
  },
  {
   "cell_type": "markdown",
   "id": "critical-enclosure",
   "metadata": {
    "slideshow": {
     "slide_type": "subslide"
    }
   },
   "source": [
    "En resumen:\n",
    "\n",
    "- `python -m pip install` + `venv` = ❤️\n",
    "- pip está bien mantenido y está recibiendo muchas mejoras ❤️\n",
    "- ¡Cuidado con los wheels!"
   ]
  },
  {
   "cell_type": "markdown",
   "id": "framed-victorian",
   "metadata": {
    "slideshow": {
     "slide_type": "slide"
    }
   },
   "source": [
    "# Cómo especificar dependencias para aplicaciones \n",
    "\n",
    "![Nivel intermedio](img/charmeleon.webp)\n"
   ]
  },
  {
   "cell_type": "markdown",
   "id": "threatened-dictionary",
   "metadata": {
    "slideshow": {
     "slide_type": "subslide"
    }
   },
   "source": [
    "✨✨✨ _Especifique las dependencias deseadas en dos sencillos pasos:_ ✨✨✨\n",
    "\n",
    "```\n",
    "(.venv) $ echo \"django<3\" > requirements.in\n",
    "(.venv) $ python -m pip install pip-tools && pip-compile\n",
    "```"
   ]
  },
  {
   "cell_type": "markdown",
   "id": "furnished-headline",
   "metadata": {
    "slideshow": {
     "slide_type": "subslide"
    }
   },
   "source": [
    "[pip-compile](https://pypi.org/project/pip-tools/) toma como entrada un archivo `requirements.in` y produce un `requirements.txt` con todas las versiones fijadas:\n",
    "\n",
    "```\n",
    "(.venv) $ cat requirements.txt\n",
    "#\n",
    "# This file is autogenerated by pip-compile\n",
    "# To update, run:\n",
    "#\n",
    "#    pip-compile\n",
    "#\n",
    "django==2.2.19\n",
    "    # via -r requirements.in\n",
    "pytz==2021.1\n",
    "    # via django\n",
    "sqlparse==0.4.1\n",
    "    # via django\n",
    "```\n",
    "\n",
    "Perfecto para tener un entorno reproducible 💯"
   ]
  },
  {
   "cell_type": "markdown",
   "id": "honey-stand",
   "metadata": {
    "slideshow": {
     "slide_type": "subslide"
    }
   },
   "source": [
    "Una vez fijadas, ¡por defecto no se actualizan! \n",
    "\n",
    "```\n",
    "(.venv) $ echo \"django\" > requirements.in\n",
    "(.venv) $ pip-compile\n",
    "#\n",
    "# This file is autogenerated by pip-compile\n",
    "# To update, run:\n",
    "#\n",
    "#    pip-compile\n",
    "#\n",
    "django==2.2.19\n",
    "    # via -r requirements.in\n",
    "pytz==2021.1\n",
    "    # via django\n",
    "sqlparse==0.4.1\n",
    "    # via django\n",
    "```\n",
    "\n",
    "Se acabaron los pipelines rotos por nuevas versiones ✨"
   ]
  },
  {
   "cell_type": "markdown",
   "id": "another-button",
   "metadata": {
    "slideshow": {
     "slide_type": "subslide"
    }
   },
   "source": [
    "Solo se actualizan si lo pedimos:\n",
    "\n",
    "```\n",
    "(.venv) $ pip-compile -P django\n",
    "#\n",
    "# This file is autogenerated by pip-compile\n",
    "# To update, run:\n",
    "#\n",
    "#    pip-compile\n",
    "#\n",
    "asgiref==3.3.1\n",
    "    # via django\n",
    "django==3.1.7\n",
    "    # via -r requirements.in\n",
    "pytz==2021.1\n",
    "    # via django\n",
    "sqlparse==0.4.1\n",
    "    # via django\n",
    "```"
   ]
  },
  {
   "cell_type": "markdown",
   "id": "consolidated-packet",
   "metadata": {
    "slideshow": {
     "slide_type": "subslide"
    }
   },
   "source": [
    "Y, para poner nuestro entorno al día:\n",
    "\n",
    "```\n",
    "(.venv) $ pip-sync\n",
    "Collecting asgiref==3.3.1\n",
    "  Using cached asgiref-3.3.1-py3-none-any.whl (19 kB)\n",
    "Collecting django==3.1.7\n",
    "  Using cached Django-3.1.7-py3-none-any.whl (7.8 MB)\n",
    "Collecting pytz==2021.1\n",
    "  Using cached pytz-2021.1-py2.py3-none-any.whl (510 kB)\n",
    "Collecting sqlparse==0.4.1\n",
    "  Using cached sqlparse-0.4.1-py3-none-any.whl (42 kB)\n",
    "Installing collected packages: sqlparse, pytz, asgiref, django\n",
    "Successfully installed asgiref-3.3.1 django-3.1.7 pytz-2021.1 sqlparse-0.4.1\n",
    "```"
   ]
  },
  {
   "cell_type": "markdown",
   "id": "accessory-lunch",
   "metadata": {
    "slideshow": {
     "slide_type": "fragment"
    }
   },
   "source": [
    "...que es casi lo mismo que hacer:\n",
    "\n",
    "```\n",
    "(.venv) $ python -m pip install -r requirements.txt \n",
    "Requirement already satisfied: asgiref==3.3.1 in ./.venv/lib/python3.8/site-packages (from -r requirements.txt (line 7)) (3.3.1)\n",
    "Requirement already satisfied: django==3.1.7 in ./.venv/lib/python3.8/site-packages (from -r requirements.txt (line 9)) (3.1.7)\n",
    "Requirement already satisfied: pytz==2021.1 in ./.venv/lib/python3.8/site-packages (from -r requirements.txt (line 11)) (2021.1)\n",
    "Requirement already satisfied: sqlparse==0.4.1 in ./.venv/lib/python3.8/site-packages (from -r requirements.txt (line 13)) (0.4.1)\n",
    "```\n",
    "\n",
    "😍😍😍"
   ]
  },
  {
   "cell_type": "markdown",
   "id": "informational-facing",
   "metadata": {
    "slideshow": {
     "slide_type": "subslide"
    }
   },
   "source": [
    "Otras alternativas:\n",
    "\n",
    "- Ya hemos hablado de `Pipenv`\n",
    "- No puedo agregar mucho sobre `Poetry`\n",
    "- ~`setup.py`~ ¡Calma! No hemos llegado aún, [y además no es exactamente para esto](https://caremad.io/posts/2013/07/setup-vs-requirement/)"
   ]
  },
  {
   "cell_type": "markdown",
   "id": "shaped-screening",
   "metadata": {
    "slideshow": {
     "slide_type": "subslide"
    }
   },
   "source": [
    "En resumen:\n",
    "\n",
    "- `pip-compile` + `pip-sync` (o simplemente `pip`) = ❤️\n",
    "- _Todo el mundo_ entiende `requirements.txt`, ¡usémoslo!\n",
    "- Básicamente, haced caso a Hynek https://hynek.me/articles/python-app-deps-2018/"
   ]
  },
  {
   "cell_type": "markdown",
   "id": "funny-reading",
   "metadata": {
    "slideshow": {
     "slide_type": "slide"
    }
   },
   "source": [
    "# Cómo distribuir código \n",
    "\n",
    "![Nivel avanzado](img/charizard.webp)"
   ]
  },
  {
   "cell_type": "markdown",
   "id": "persistent-passing",
   "metadata": {
    "slideshow": {
     "slide_type": "notes"
    }
   },
   "source": [
    "- Varios enfoques. Lista de PEPs, un poco aburrido, mejor busquemos otra forma. Pero empecemos a enumerar.\n",
    "  - PEP 518 https://www.python.org/dev/peps/pep-0518/ introducción de `pyproject.toml` para dependencias en tiempo de **instalación**\n",
    "    - Sustituye a `setup_requires` de setuptools\n",
    "      - Por cierto, `easy_install` is dead! https://twitter.com/codewithanthony/status/1356285880500043776\n",
    "    - Muy buen artículo por Brett Cannon https://snarky.ca/clarifying-pep-518/\n",
    "  - PEP 517 https://www.python.org/dev/peps/pep-0517/ especificación para nuevos build systems que no sean distutils o setuptools (flit, poetry)\n",
    "  - PEP 632 https://www.python.org/dev/peps/pep-0632/ distutils está obsoleto! ahora hay que usar solamente setuptools\n",
    "    - Lo seguirán necesitando por una temporada los que usen extensiones\n",
    "  - PEP 621 https://www.python.org/dev/peps/pep-0621/ estandarización de `pyproject.toml` para unificar setuptools, flit, y Poetry!\n",
    "    - Esto mejor contarlo al final del todo\n",
    "    - Viene al caso de poetry y el buildpack de Heroku\n",
    "    - https://twitter.com/brettsky/status/1366919850510049280\n",
    "- Perfiles de gente:\n",
    "  - El desarrollador que quiere publicar código\n",
    "    - `setup.py` ha muerto!!\n",
    "      - `python setup.py install` -> `pip install .`\n",
    "      - `python setup.py develop` -> `pip install -e .`\n",
    "      - `python setup.py sdist bdist_wheel` -> `pip install build && python -m build`\n",
    "    - Usar repositorios internos: devpi, https://pypi.org/project/pypiserver/\n",
    "    - No usar git!! Mucho más lento\n",
    "    - Y además, ataques de supply chain\n",
    "    - Mover la parte de los PEPs aquí?\n",
    "    - PEP 621 - hace 5 días Thomas Kluyver (flit) abrió un PR!!!! https://github.com/takluyver/flit/pull/393\n",
    "    - Uso de tox para tener paridad con CI! Y además ahora viene tox4\n",
    "    - Cómo seguir: https://github.com/astrojuanlu/cookiecutter-pylib"
   ]
  }
 ],
 "metadata": {
  "celltoolbar": "Slideshow",
  "kernelspec": {
   "display_name": "Python 3",
   "language": "python",
   "name": "python3"
  },
  "language_info": {
   "codemirror_mode": {
    "name": "ipython",
    "version": 3
   },
   "file_extension": ".py",
   "mimetype": "text/x-python",
   "name": "python",
   "nbconvert_exporter": "python",
   "pygments_lexer": "ipython3",
   "version": "3.8.5"
  }
 },
 "nbformat": 4,
 "nbformat_minor": 5
}
